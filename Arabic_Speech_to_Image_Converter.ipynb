{
 "cells": [
  {
   "cell_type": "markdown",
   "metadata": {},
   "source": [
    "# Arabic Speech to Image Converter"
   ]
  },
  {
   "cell_type": "markdown",
   "metadata": {},
   "source": [
    "### Install Necessary Libraries"
   ]
  },
  {
   "cell_type": "code",
   "execution_count": null,
   "metadata": {},
   "outputs": [],
   "source": [
    "!pip install pydub pytube speechrecognition google-cloud-storage ffmpeg\n",
    "!pip install --upgrade arabic-reshaper\n",
    "!pip install --upgrade pip\n",
    "!pip install python-bidi"
   ]
  },
  {
   "cell_type": "markdown",
   "metadata": {},
   "source": [
    "### Import Required Libraries"
   ]
  },
  {
   "cell_type": "code",
   "execution_count": null,
   "metadata": {},
   "outputs": [],
   "source": [
    "import speech_recognition as sr\n",
    "from PIL import Image, ImageDraw, ImageFont\n",
    "import arabic_reshaper\n",
    "from bidi.algorithm import get_display\n",
    "from pydub import AudioSegment"
   ]
  },
  {
   "cell_type": "markdown",
   "metadata": {},
   "source": [
    "### Convert MP3 to WAV (Optional)"
   ]
  },
  {
   "cell_type": "code",
   "execution_count": null,
   "metadata": {},
   "outputs": [],
   "source": [
    "# def convert_mp3_to_wav(mp3_file):\n",
    "#     audio = AudioSegment.from_mp3(mp3_file)\n",
    "#     wav_file = mp3_file.replace(\".mp3\", \".wav\")\n",
    "#     audio.export(wav_file, format=\"wav\")\n",
    "#     return wav_file"
   ]
  },
  {
   "cell_type": "markdown",
   "metadata": {},
   "source": [
    "### Convert Audio to Text (Speech Recognition)"
   ]
  },
  {
   "cell_type": "code",
   "execution_count": null,
   "metadata": {},
   "outputs": [],
   "source": [
    "def audio_to_text(audio_file):\n",
    "    \"\"\"\n",
    "    Convert an audio file to text using Google's Speech Recognition API for Arabic language.\n",
    "    \n",
    "    Parameters:\n",
    "    - audio_file: Path to the Arabic audio file\n",
    "    \n",
    "    Returns:\n",
    "    - Transcribed text from the audio\n",
    "    \"\"\"\n",
    "    recognizer = sr.Recognizer()\n",
    "    with sr.AudioFile(audio_file) as source:\n",
    "        audio = recognizer.record(source)\n",
    "    text = recognizer.recognize_google(audio, language=\"ar\")  # Transcribe using Arabic language\n",
    "    return text"
   ]
  },
  {
   "cell_type": "markdown",
   "metadata": {},
   "source": [
    "### Process Transcribed Text and Generate Image"
   ]
  },
  {
   "cell_type": "code",
   "execution_count": null,
   "metadata": {},
   "outputs": [],
   "source": [
    "def process_text_to_image(text):\n",
    "    \"\"\"\n",
    "    Process the transcribed Arabic text and generate an image with the text displayed.\n",
    "    \n",
    "    Parameters:\n",
    "    - text: The transcribed Arabic text to be displayed on the image\n",
    "    \n",
    "    Returns:\n",
    "    - Path to the generated image\n",
    "    \"\"\"\n",
    "    # Define image properties\n",
    "    image_width = 800\n",
    "    image_height = 400\n",
    "    background_color = (100, 255, 255)  # Light blue background\n",
    "    text_color = (0, 0, 0)  # Black text\n",
    "    font_size = 28\n",
    "    font_path = \"/content/IBMPlexSansArabic-Thin.ttf\"  # Path to an Arabic font file\n",
    "\n",
    "    # Create a blank image\n",
    "    image = Image.new(\"RGB\", (image_width, image_height), background_color)\n",
    "    draw = ImageDraw.Draw(image)\n",
    "\n",
    "    # Load the Arabic font\n",
    "    font = ImageFont.truetype(font_path, font_size)\n",
    "\n",
    "    # Reshape and reorder Arabic text\n",
    "    reshaped_text = arabic_reshaper.reshape(text)  # Reshape the Arabic text\n",
    "    bidi_text = get_display(reshaped_text)  # Reorder text for right-to-left display\n",
    "    reversed_bidi_text = bidi_text[::-1]  # Reverse text\n",
    "\n",
    "    # Calculate text position for centering\n",
    "    text_width, text_height = draw.textsize(reversed_bidi_text, font=font)\n",
    "    text_position = ((image_width - text_width) // 2, (image_height - text_height) // 2)\n",
    "\n",
    "    # Draw the text on the image\n",
    "    draw.text(text_position, reversed_bidi_text, fill=text_color, font=font)\n",
    "\n",
    "    # Save the image\n",
    "    image.save(\"output_image.png\")\n",
    "    return \"output_image.png\""
   ]
  },
  {
   "cell_type": "markdown",
   "metadata": {},
   "source": [
    "### Transcribe Audio and Generate Image"
   ]
  },
  {
   "cell_type": "code",
   "execution_count": null,
   "metadata": {},
   "outputs": [],
   "source": [
    "# Replace this with the path to your Arabic audio file\n",
    "audio_file_path = \"/path/to/audio.wav\"  \n",
    "\n",
    "# Transcribe the audio file\n",
    "transcribed_text = audio_to_text(audio_file_path)\n",
    "\n",
    "# Process the transcribed text and generate an image\n",
    "process_text_to_image(transcribed_text)"
   ]
  }
 ],
 "metadata": {
  "language_info": {
   "name": "python"
  }
 },
 "nbformat": 4,
 "nbformat_minor": 2
}
